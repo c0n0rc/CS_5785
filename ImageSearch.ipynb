{
 "cells": [
  {
   "cell_type": "markdown",
   "metadata": {},
   "source": [
    "### The Challenge: Build a large-scale image search engine!\n",
    "\n",
    "You and your team of **three Cornell Tech students** are surely on the path to fame and fortune! You have been recruited by Google to disrupt Google Image Search by building a better search engine using novel statistical learning techniques.\n",
    "\n",
    "The specifications are simple: We need a way to **search for relevant images** given a natural language query. For instance, if a user types \"dog jumping to catch frisbee,\" your system will **rank-order the most relevant images** from a large database.\n",
    "\n",
    "---\n"
   ]
  },
  {
   "cell_type": "markdown",
   "metadata": {},
   "source": [
    "**During training**, you have a dataset of 10,000 samples. \n",
    "\n",
    "Each sample has the following data available for learning:\n",
    "- A 224x224 JPG image.\n",
    "- A list of tags indicating objects appeared in the image.\n",
    "- Feature vectors extracted using [Resnet](https://arxiv.org/abs/1512.03385), a state-of-the-art Deep-learned CNN (You don't have to train or run ResNet -- we are providing the features for you). See [here](http://ethereon.github.io/netscope/#/gist/b21e2aae116dc1ac7b50) for the illustration of the ResNet-101 architecture. The features are extracted from pool5 and fc1000 layer.\n",
    "- A five-sentence description, used to train your search engine.\n",
    "\n",
    "**During testing**, your system matches a single five-sentence description against a pool of 2,000 candidate samples from the test set. \n",
    "\n",
    "Each sample has:\n",
    "- A 224x224 JPEG image.\n",
    "- A list of tags for that image.\n",
    "- ResNet feature vectors for that image.\n",
    "\n",
    "**Output**:\n",
    "For each description, your system must rank-score each testing image with the likelihood of that image matches the given sentence. Your system then returns the name of the top 20 relevant images, delimited by space. See \"sample_submission.csv\" on the data page for more details on the output format.\n",
    "\n",
    "**Evaluation metric**:\n",
    "There are 2,000 descriptions, and for each description, you must compare against the entire 2,000-image test set. That is, rank-order test images for each test description. We will use **MAP@20** as the evaluation metric. If the corresponding image of a description is among your algorithm's 20 highest scoring images, this metric gives you a certain score based on the ranking of the corresponding image. Please refer to the evaluation page for more details. Use all of your skills, tools, and experience. It is OK to use libraries like numpy, scikit-learn, pandas, etc., as long as you cite them. Use cross-validation on training set to debug your algorithm. Submit your results to the Kaggle leaderboard and send your complete writeup to CMS. The data you use --- and the way you use the data --- is completely up to you.\n",
    "\n",
    "**Note**:\n",
    "The best teams of **three Cornell Tech students** might use visualization techniques for debugging (e.g., show top images retrieved by your algorithm and see whether they make sense or not), preprocessing, a nice way to compare tags and descriptions, leveraging visual features and combining them with tags and descriptions, supervised and/or unsupervised learning to best understand how to best take advantage of each data source available to them.\n",
    "\n",
    "---"
   ]
  },
  {
   "cell_type": "markdown",
   "metadata": {},
   "source": [
    "**File descriptions**:\n",
    "\n",
    "- images_train - 10,000 training images of size 224x224.\n",
    "- images_test - 2,000 test images of size 224x224.\n",
    "- tags_train - image tags correspond to training images. Each image have several tags indicating the human-labeled object categories appear in the image, in the form of \"supercategory:category\".\n",
    "- tags_test - image tags correspond to test images. Each image have several tags indicating the human-labeled object categories appear in the image, in the form of \"supercategory:category\".\n",
    "features_train - features extracted from a pre-trained Residual Network (ResNet) on training set, including 1,000 dimensional feature from classification layer (fc1000) and 2,048 dimensional feature from final convolution layer (pool5). Each dimension of the fc1000 feature corresponds to a WordNet synset here.\n",
    "- features_test - features extracted from the same Residual Network (ResNet) on test set, including 1,000 dimensional feature from classification layer (fc1000) and 2,048 dimensional feature from final convolution layer (pool5).\n",
    "- descriptions_train - image descriptions correspond to training images. Each image have 5 sentences for describing the image content.\n",
    "- descriptions_test - image descriptions for test images. Each image have 5 sentences for describing the image content. Notice that one test description corresponds to one test image. The task you need to do is to return top 20 images in test set for each test description.\n",
    "- sample_submission.csv - a sample submission file in the correct format.\n",
    "\n",
    "---\n"
   ]
  },
  {
   "cell_type": "code",
   "execution_count": 1,
   "metadata": {},
   "outputs": [],
   "source": [
    "import os\n",
    "import sys\n",
    "import csv\n",
    "import operator\n",
    "import numpy as np\n",
    "import pandas as pd\n",
    "from PIL import Image\n",
    "import matplotlib.cm as cm\n",
    "from matplotlib import pylab as plt\n",
    "%matplotlib inline\n",
    "\n",
    "\n",
    "### Read in training data\n",
    "\n",
    "# Sort files in ascending order\n",
    "def order_keys(text):\n",
    "    return int(text.split('.')[0])\n",
    "\n",
    "# Define paths\n",
    "my_path = os.getcwd()\n",
    "image_train_path = os.path.join(my_path, 'images_train')\n",
    "desc_train_path  = os.path.join(my_path, 'descriptions_train')\n",
    "tags_train_path  = os.path.join(my_path, 'tags_train')\n",
    "features_train_path = os.path.join(my_path, 'features_train')\n",
    "\n",
    "# Define arrays\n",
    "images_train_arr   = []\n",
    "desc_train_arr     = []\n",
    "tags_train_arr     = []\n",
    "features_train_arr = []\n",
    "\n",
    "\n"
   ]
  },
  {
   "cell_type": "code",
   "execution_count": 2,
   "metadata": {},
   "outputs": [],
   "source": [
    "# Read in the images\n",
    "image_files = os.listdir(image_train_path)\n",
    "image_files.sort(key = order_keys)\n",
    "for image_file in image_files:\n",
    "    # Open each image file\n",
    "    im = Image.open(os.path.join(image_train_path, image_file), 'r')\n",
    "    \n",
    "    # Convert to an np array\n",
    "    images_train_arr.append(np.asarray(im))\n",
    "\n",
    "    # Close the file\n",
    "    im.close()"
   ]
  },
  {
   "cell_type": "code",
   "execution_count": 3,
   "metadata": {},
   "outputs": [
    {
     "name": "stdout",
     "output_type": "stream",
     "text": [
      "10000\n",
      "10000\n"
     ]
    }
   ],
   "source": [
    "# Read in the descriptions\n",
    "desc_files = os.listdir(desc_train_path)\n",
    "\n",
    "desc_files.sort(key = order_keys)\n",
    "print(len(desc_files))\n",
    "for desc_file in desc_files:\n",
    "    # Open each text file. Strip leading/trailing whitespace\n",
    "    lines = [line.strip() for line in open(os.path.join(desc_train_path, desc_file))]\n",
    "    \n",
    "    # Convert to an np array\n",
    "    desc_train_arr.append(np.asarray(lines))\n",
    "    \n",
    "# print(desc_arr)\n",
    "print(len(desc_train_arr))\n",
    "\n",
    "\n"
   ]
  },
  {
   "cell_type": "code",
   "execution_count": 4,
   "metadata": {},
   "outputs": [
    {
     "name": "stdout",
     "output_type": "stream",
     "text": [
      "10000\n"
     ]
    }
   ],
   "source": [
    "# Read in the tags\n",
    "tag_files = os.listdir(tags_train_path)\n",
    "tag_files.sort(key = order_keys)\n",
    "for tag_file in tag_files:\n",
    "    # Open each text file. Strip leading/trailing whitespace\n",
    "    lines = [line.strip() for line in open(os.path.join(tags_train_path, tag_file))]\n",
    "    \n",
    "    # Convert to an np array\n",
    "    tags_train_arr.append(np.asarray(lines))\n",
    "\n",
    "# print(tags_train_arr)\n",
    "print(len(tags_train_arr))"
   ]
  },
  {
   "cell_type": "code",
   "execution_count": 5,
   "metadata": {},
   "outputs": [],
   "source": [
    "# Read in the features\n",
    "feature_files = os.listdir(features_train_path)\n",
    "feature_files\n",
    "\n",
    "# for feature_file in feature_files:\n",
    "#     reader = csv.reader(open(os.path.join(features_train_path, feature_file)), delimiter=\",\")\n",
    "#     sortedlist = sorted(reader, key = lambda row: int(row[0].split('/')[1].split('.')[0]))\n",
    "#     features_arr = sortedlist\n",
    "\n",
    "reader = csv.reader(open(os.path.join(features_train_path, 'features_resnet1000_train.csv')), delimiter=\",\")\n",
    "sortedlist = sorted(reader, key = lambda row: int(row[0].split('/')[1].split('.')[0]))\n",
    "features_resnet1000_train_arr = sortedlist\n",
    "\n",
    "# print(features_resnet1000_train_arr)\n",
    "\n",
    "reader = csv.reader(open(os.path.join(features_train_path, 'features_resnet1000intermediate_train.csv')), delimiter=\",\")\n",
    "sortedlist = sorted(reader, key = lambda row: int(row[0].split('/')[1].split('.')[0]))\n",
    "features_resnet1000intermediate_train_arr = sortedlist\n",
    "\n",
    "# print(features_resnet1000intermediate_train_arr)"
   ]
  },
  {
   "cell_type": "code",
   "execution_count": 13,
   "metadata": {},
   "outputs": [
    {
     "ename": "ValueError",
     "evalue": "Length of values does not match length of index",
     "output_type": "error",
     "traceback": [
      "\u001b[1;31m---------------------------------------------------------------------------\u001b[0m",
      "\u001b[1;31mValueError\u001b[0m                                Traceback (most recent call last)",
      "\u001b[1;32m<ipython-input-13-6c127ac604e8>\u001b[0m in \u001b[0;36m<module>\u001b[1;34m()\u001b[0m\n\u001b[0;32m      8\u001b[0m \u001b[0mdf_train\u001b[0m\u001b[1;33m[\u001b[0m\u001b[1;34m'images'\u001b[0m\u001b[1;33m]\u001b[0m \u001b[1;33m=\u001b[0m \u001b[0mimages_train_arr\u001b[0m\u001b[1;33m\u001b[0m\u001b[0m\n\u001b[0;32m      9\u001b[0m \u001b[0mdf_train\u001b[0m\u001b[1;33m[\u001b[0m\u001b[1;34m'descriptions'\u001b[0m\u001b[1;33m]\u001b[0m \u001b[1;33m=\u001b[0m \u001b[0mdesc_train_arr\u001b[0m\u001b[1;33m\u001b[0m\u001b[0m\n\u001b[1;32m---> 10\u001b[1;33m \u001b[0mdf_train\u001b[0m\u001b[1;33m[\u001b[0m\u001b[1;34m'tags'\u001b[0m\u001b[1;33m]\u001b[0m \u001b[1;33m=\u001b[0m \u001b[0mtags_train_arr\u001b[0m\u001b[1;33m\u001b[0m\u001b[0m\n\u001b[0m\u001b[0;32m     11\u001b[0m \u001b[0mdf_train\u001b[0m\u001b[1;33m[\u001b[0m\u001b[1;34m'features_resnet1000'\u001b[0m\u001b[1;33m]\u001b[0m \u001b[1;33m=\u001b[0m \u001b[0mfeatures_resnet1000_train_arr\u001b[0m\u001b[1;33m\u001b[0m\u001b[0m\n\u001b[0;32m     12\u001b[0m \u001b[0mdf_train\u001b[0m\u001b[1;33m[\u001b[0m\u001b[1;34m'features_resnet1000intermediate'\u001b[0m\u001b[1;33m]\u001b[0m \u001b[1;33m=\u001b[0m \u001b[0mfeatures_resnet1000intermediate_train_arr\u001b[0m\u001b[1;33m\u001b[0m\u001b[0m\n",
      "\u001b[1;32m~\\Anaconda3\\lib\\site-packages\\pandas\\core\\frame.py\u001b[0m in \u001b[0;36m__setitem__\u001b[1;34m(self, key, value)\u001b[0m\n\u001b[0;32m   3117\u001b[0m         \u001b[1;32melse\u001b[0m\u001b[1;33m:\u001b[0m\u001b[1;33m\u001b[0m\u001b[0m\n\u001b[0;32m   3118\u001b[0m             \u001b[1;31m# set column\u001b[0m\u001b[1;33m\u001b[0m\u001b[1;33m\u001b[0m\u001b[0m\n\u001b[1;32m-> 3119\u001b[1;33m             \u001b[0mself\u001b[0m\u001b[1;33m.\u001b[0m\u001b[0m_set_item\u001b[0m\u001b[1;33m(\u001b[0m\u001b[0mkey\u001b[0m\u001b[1;33m,\u001b[0m \u001b[0mvalue\u001b[0m\u001b[1;33m)\u001b[0m\u001b[1;33m\u001b[0m\u001b[0m\n\u001b[0m\u001b[0;32m   3120\u001b[0m \u001b[1;33m\u001b[0m\u001b[0m\n\u001b[0;32m   3121\u001b[0m     \u001b[1;32mdef\u001b[0m \u001b[0m_setitem_slice\u001b[0m\u001b[1;33m(\u001b[0m\u001b[0mself\u001b[0m\u001b[1;33m,\u001b[0m \u001b[0mkey\u001b[0m\u001b[1;33m,\u001b[0m \u001b[0mvalue\u001b[0m\u001b[1;33m)\u001b[0m\u001b[1;33m:\u001b[0m\u001b[1;33m\u001b[0m\u001b[0m\n",
      "\u001b[1;32m~\\Anaconda3\\lib\\site-packages\\pandas\\core\\frame.py\u001b[0m in \u001b[0;36m_set_item\u001b[1;34m(self, key, value)\u001b[0m\n\u001b[0;32m   3192\u001b[0m \u001b[1;33m\u001b[0m\u001b[0m\n\u001b[0;32m   3193\u001b[0m         \u001b[0mself\u001b[0m\u001b[1;33m.\u001b[0m\u001b[0m_ensure_valid_index\u001b[0m\u001b[1;33m(\u001b[0m\u001b[0mvalue\u001b[0m\u001b[1;33m)\u001b[0m\u001b[1;33m\u001b[0m\u001b[0m\n\u001b[1;32m-> 3194\u001b[1;33m         \u001b[0mvalue\u001b[0m \u001b[1;33m=\u001b[0m \u001b[0mself\u001b[0m\u001b[1;33m.\u001b[0m\u001b[0m_sanitize_column\u001b[0m\u001b[1;33m(\u001b[0m\u001b[0mkey\u001b[0m\u001b[1;33m,\u001b[0m \u001b[0mvalue\u001b[0m\u001b[1;33m)\u001b[0m\u001b[1;33m\u001b[0m\u001b[0m\n\u001b[0m\u001b[0;32m   3195\u001b[0m         \u001b[0mNDFrame\u001b[0m\u001b[1;33m.\u001b[0m\u001b[0m_set_item\u001b[0m\u001b[1;33m(\u001b[0m\u001b[0mself\u001b[0m\u001b[1;33m,\u001b[0m \u001b[0mkey\u001b[0m\u001b[1;33m,\u001b[0m \u001b[0mvalue\u001b[0m\u001b[1;33m)\u001b[0m\u001b[1;33m\u001b[0m\u001b[0m\n\u001b[0;32m   3196\u001b[0m \u001b[1;33m\u001b[0m\u001b[0m\n",
      "\u001b[1;32m~\\Anaconda3\\lib\\site-packages\\pandas\\core\\frame.py\u001b[0m in \u001b[0;36m_sanitize_column\u001b[1;34m(self, key, value, broadcast)\u001b[0m\n\u001b[0;32m   3389\u001b[0m \u001b[1;33m\u001b[0m\u001b[0m\n\u001b[0;32m   3390\u001b[0m             \u001b[1;31m# turn me into an ndarray\u001b[0m\u001b[1;33m\u001b[0m\u001b[1;33m\u001b[0m\u001b[0m\n\u001b[1;32m-> 3391\u001b[1;33m             \u001b[0mvalue\u001b[0m \u001b[1;33m=\u001b[0m \u001b[0m_sanitize_index\u001b[0m\u001b[1;33m(\u001b[0m\u001b[0mvalue\u001b[0m\u001b[1;33m,\u001b[0m \u001b[0mself\u001b[0m\u001b[1;33m.\u001b[0m\u001b[0mindex\u001b[0m\u001b[1;33m,\u001b[0m \u001b[0mcopy\u001b[0m\u001b[1;33m=\u001b[0m\u001b[1;32mFalse\u001b[0m\u001b[1;33m)\u001b[0m\u001b[1;33m\u001b[0m\u001b[0m\n\u001b[0m\u001b[0;32m   3392\u001b[0m             \u001b[1;32mif\u001b[0m \u001b[1;32mnot\u001b[0m \u001b[0misinstance\u001b[0m\u001b[1;33m(\u001b[0m\u001b[0mvalue\u001b[0m\u001b[1;33m,\u001b[0m \u001b[1;33m(\u001b[0m\u001b[0mnp\u001b[0m\u001b[1;33m.\u001b[0m\u001b[0mndarray\u001b[0m\u001b[1;33m,\u001b[0m \u001b[0mIndex\u001b[0m\u001b[1;33m)\u001b[0m\u001b[1;33m)\u001b[0m\u001b[1;33m:\u001b[0m\u001b[1;33m\u001b[0m\u001b[0m\n\u001b[0;32m   3393\u001b[0m                 \u001b[1;32mif\u001b[0m \u001b[0misinstance\u001b[0m\u001b[1;33m(\u001b[0m\u001b[0mvalue\u001b[0m\u001b[1;33m,\u001b[0m \u001b[0mlist\u001b[0m\u001b[1;33m)\u001b[0m \u001b[1;32mand\u001b[0m \u001b[0mlen\u001b[0m\u001b[1;33m(\u001b[0m\u001b[0mvalue\u001b[0m\u001b[1;33m)\u001b[0m \u001b[1;33m>\u001b[0m \u001b[1;36m0\u001b[0m\u001b[1;33m:\u001b[0m\u001b[1;33m\u001b[0m\u001b[0m\n",
      "\u001b[1;32m~\\Anaconda3\\lib\\site-packages\\pandas\\core\\series.py\u001b[0m in \u001b[0;36m_sanitize_index\u001b[1;34m(data, index, copy)\u001b[0m\n\u001b[0;32m   3999\u001b[0m \u001b[1;33m\u001b[0m\u001b[0m\n\u001b[0;32m   4000\u001b[0m     \u001b[1;32mif\u001b[0m \u001b[0mlen\u001b[0m\u001b[1;33m(\u001b[0m\u001b[0mdata\u001b[0m\u001b[1;33m)\u001b[0m \u001b[1;33m!=\u001b[0m \u001b[0mlen\u001b[0m\u001b[1;33m(\u001b[0m\u001b[0mindex\u001b[0m\u001b[1;33m)\u001b[0m\u001b[1;33m:\u001b[0m\u001b[1;33m\u001b[0m\u001b[0m\n\u001b[1;32m-> 4001\u001b[1;33m         \u001b[1;32mraise\u001b[0m \u001b[0mValueError\u001b[0m\u001b[1;33m(\u001b[0m\u001b[1;34m'Length of values does not match length of '\u001b[0m \u001b[1;34m'index'\u001b[0m\u001b[1;33m)\u001b[0m\u001b[1;33m\u001b[0m\u001b[0m\n\u001b[0m\u001b[0;32m   4002\u001b[0m \u001b[1;33m\u001b[0m\u001b[0m\n\u001b[0;32m   4003\u001b[0m     \u001b[1;32mif\u001b[0m \u001b[0misinstance\u001b[0m\u001b[1;33m(\u001b[0m\u001b[0mdata\u001b[0m\u001b[1;33m,\u001b[0m \u001b[0mABCIndexClass\u001b[0m\u001b[1;33m)\u001b[0m \u001b[1;32mand\u001b[0m \u001b[1;32mnot\u001b[0m \u001b[0mcopy\u001b[0m\u001b[1;33m:\u001b[0m\u001b[1;33m\u001b[0m\u001b[0m\n",
      "\u001b[1;31mValueError\u001b[0m: Length of values does not match length of index"
     ]
    }
   ],
   "source": [
    "# Format features into pd dataframe\n",
    "# print len(images_arr)\n",
    "# print len(desc_arr)\n",
    "# print len(tags_arr)\n",
    "# print len(features_arr)\n",
    "\n",
    "df_train = pd.DataFrame()\n",
    "df_train['images'] = images_train_arr\n",
    "df_train['descriptions'] = desc_train_arr\n",
    "df_train['tags'] = tags_train_arr\n",
    "df_train['features_resnet1000'] = features_resnet1000_train_arr\n",
    "df_train['features_resnet1000intermediate'] = features_resnet1000intermediate_train_arr\n",
    "\n"
   ]
  },
  {
   "cell_type": "code",
   "execution_count": 16,
   "metadata": {
    "collapsed": true
   },
   "outputs": [
    {
     "data": {
      "text/plain": [
       "0       [images_train/0.jpg, 1.0331509113311768, 0.148...\n",
       "1       [images_train/1.jpg, 0.23184368014335632, 0.12...\n",
       "2       [images_train/2.jpg, 0.6228247880935669, 0.250...\n",
       "3       [images_train/3.jpg, 0.2176360934972763, 0.160...\n",
       "4       [images_train/4.jpg, 0.024830954149365425, 0.1...\n",
       "5       [images_train/5.jpg, 0.05333779752254486, 0.67...\n",
       "6       [images_train/6.jpg, 0.13950727880001068, 0.50...\n",
       "7       [images_train/7.jpg, 0.5640271902084351, 0.295...\n",
       "8       [images_train/8.jpg, 0.9344930648803711, 1.236...\n",
       "9       [images_train/9.jpg, 0.5699881315231323, 1.187...\n",
       "10      [images_train/10.jpg, 0.18309567868709564, 0.7...\n",
       "11      [images_train/11.jpg, 0.38731083273887634, 0.0...\n",
       "12      [images_train/12.jpg, 0.5061988234519958, 0.00...\n",
       "13      [images_train/13.jpg, 0.26488766074180603, 0.0...\n",
       "14      [images_train/14.jpg, 0.10956430435180664, 0.2...\n",
       "15      [images_train/15.jpg, 0.2634522318840027, 0.59...\n",
       "16      [images_train/16.jpg, 0.3794688284397125, 0.12...\n",
       "17      [images_train/17.jpg, 0.17898522317409515, 0.5...\n",
       "18      [images_train/18.jpg, 0.45822077989578247, 0.7...\n",
       "19      [images_train/19.jpg, 0.5955640077590942, 0.63...\n",
       "20      [images_train/20.jpg, 0.2118726521730423, 0.35...\n",
       "21      [images_train/21.jpg, 0.4553745687007904, 0.05...\n",
       "22      [images_train/22.jpg, 0.3813450336456299, 0.01...\n",
       "23      [images_train/23.jpg, 0.20804575085639954, 0.4...\n",
       "24      [images_train/24.jpg, 0.45377492904663086, 0.0...\n",
       "25      [images_train/25.jpg, 0.8006682991981506, 0.64...\n",
       "26      [images_train/26.jpg, 0.6398628354072571, 1.75...\n",
       "27      [images_train/27.jpg, 1.2205755710601807, 0.62...\n",
       "28      [images_train/28.jpg, 1.0090200901031494, 0.47...\n",
       "29      [images_train/29.jpg, 0.1929018497467041, 1.10...\n",
       "                              ...                        \n",
       "9970    [images_train/9970.jpg, 0.9607658982276917, 0....\n",
       "9971    [images_train/9971.jpg, 0.6482632160186768, 0....\n",
       "9972    [images_train/9972.jpg, 0.7807185053825378, 1....\n",
       "9973    [images_train/9973.jpg, 0.28352952003479004, 0...\n",
       "9974    [images_train/9974.jpg, 0.6259180307388306, 0....\n",
       "9975    [images_train/9975.jpg, 1.8829562664031982, 0....\n",
       "9976    [images_train/9976.jpg, 0.18820399045944214, 0...\n",
       "9977    [images_train/9977.jpg, 0.25742307305336, 0.05...\n",
       "9978    [images_train/9978.jpg, 0.011875968426465988, ...\n",
       "9979    [images_train/9979.jpg, 0.7484525442123413, 0....\n",
       "9980    [images_train/9980.jpg, 0.3190110921859741, 0....\n",
       "9981    [images_train/9981.jpg, 0.05433984845876694, 0...\n",
       "9982    [images_train/9982.jpg, 0.7494878768920898, 1....\n",
       "9983    [images_train/9983.jpg, 0.4732983708381653, 0....\n",
       "9984    [images_train/9984.jpg, 0.5966665148735046, 0....\n",
       "9985    [images_train/9985.jpg, 1.797857642173767, 0.0...\n",
       "9986    [images_train/9986.jpg, 0.06951975077390671, 0...\n",
       "9987    [images_train/9987.jpg, 0.41294851899147034, 0...\n",
       "9988    [images_train/9988.jpg, 0.469073623418808, 0.3...\n",
       "9989    [images_train/9989.jpg, 0.22698943316936493, 0...\n",
       "9990    [images_train/9990.jpg, 0.37696021795272827, 1...\n",
       "9991    [images_train/9991.jpg, 0.12063197791576385, 0...\n",
       "9992    [images_train/9992.jpg, 0.11002808064222336, 1...\n",
       "9993    [images_train/9993.jpg, 0.9296409487724304, 2....\n",
       "9994    [images_train/9994.jpg, 0.1320047825574875, 0....\n",
       "9995    [images_train/9995.jpg, 0.18146254122257233, 0...\n",
       "9996    [images_train/9996.jpg, 0.8823961615562439, 0....\n",
       "9997    [images_train/9997.jpg, 0.05613671615719795, 1...\n",
       "9998    [images_train/9998.jpg, 1.0467500686645508, 0....\n",
       "9999    [images_train/9999.jpg, 0.16653798520565033, 0...\n",
       "Name: features_resnet1000intermediate, Length: 10000, dtype: object"
      ]
     },
     "execution_count": 16,
     "metadata": {},
     "output_type": "execute_result"
    }
   ],
   "source": [
    "df_train['features_resnet1000intermediate']"
   ]
  },
  {
   "cell_type": "code",
   "execution_count": null,
   "metadata": {},
   "outputs": [],
   "source": [
    "## OLD STUFF\n",
    "\n",
    "# Some of the training data did not have space after punctuation and was considered together as a word\n",
    "# To account for this, punctuations were replaced with a blankspace to be splitted later. The words in sentences were converted to lowercase as well\n",
    "# def fixpunct(s):\n",
    "#     new_sent = ''\n",
    "#     for i in s:\n",
    "#         if i not in string.punctuation:\n",
    "#             new_sent += i\n",
    "#         else:\n",
    "#             new_sent += ' '\n",
    "#     return new_sent.lower()\n",
    "\n",
    "\n",
    "# # Iterate through the training data and generate a list of unique words\n",
    "# uniquewords1 = []\n",
    "# lmtzr = nltk.stem.wordnet.WordNetLemmatizer()\n",
    "# for sentence in training_data1:\n",
    "#     sentencefixed = fixpunct(sentence)\n",
    "#     tokens = nltk.word_tokenize(sentencefixed)\n",
    "#     tokens = [lmtzr.lemmatize(word, 'v') for word in tokens]\n",
    "#     tokens = [word for word in tokens if word not in stopset]\n",
    "#     for word in tokens:\n",
    "#         if word not in uniquewords1:\n",
    "#             uniquewords1.append(word)\n",
    "            "
   ]
  },
  {
   "cell_type": "code",
   "execution_count": null,
   "metadata": {},
   "outputs": [],
   "source": [
    "# Output results to CSV\n",
    "\n",
    "# with open('test_results.csv', 'w') as csvfile:\n",
    "#     writer = cimagessv.writer(csvfile, delimiter=',')\n",
    "#     writer.writerow(['Description_ID','Top_20_Image_IDs'])"
   ]
  },
  {
   "cell_type": "code",
   "execution_count": null,
   "metadata": {},
   "outputs": [],
   "source": [
    "# Rando notes\n",
    "\n",
    "# Preprocessing\n",
    "# Lowercase all of the words.\n",
    "# • Lemmatization of all the words (i.e., convert every word to its root so that all of “running,”\n",
    "# “run,” and “runs” are converted to “run” and and all of “good,” “well,” “better,” and “best”\n",
    "# are converted to “good”; this is easily done using nltk.stem).\n",
    "# • Strip punctuation.\n",
    "# • Strip the stop words, e.g., “the”, “and”, “or”.\n",
    "\n",
    "#Processing\n",
    "# bag of words, 2-gram and PCA for bag of words\n",
    "# - Common words like \"the\", \"a\", \"to\" are almost always the terms with highest frequency in the text. \n",
    "# Thus, having a high raw count does not necessarily mean that the corresponding word is more important. \n",
    "# To address this problem, one of the most popular ways to \"normalize\" the term frequencies is to weight \n",
    "#a term by the inverse of document frequency, or tf–idf.\n",
    "# https://en.wikipedia.org/wiki/Naive_Bayes_spam_filtering\n",
    "\n",
    "\n",
    "#Postprocessing\n",
    "# log-normalization\n",
    "# l1 normalization\n",
    "# l2 normalization\n",
    "# Standardize the data by subtracting the mean and dividing by the variance.\n",
    "\n",
    "\n",
    "# https://medium.com/@14prakash/understanding-and-implementing-architectures-of-resnet-and-resnext-for-state-of-the-art-image-cf51669e1624\n",
    "\n",
    "\n",
    "\n",
    "\n",
    "# maybe preprocessing / bag of words to match query with an image\n",
    "# then k-means on the feature vectors of images to find closely related images\n"
   ]
  }
 ],
 "metadata": {
  "kernelspec": {
   "display_name": "Python 3",
   "language": "python",
   "name": "python3"
  },
  "language_info": {
   "codemirror_mode": {
    "name": "ipython",
    "version": 3
   },
   "file_extension": ".py",
   "mimetype": "text/x-python",
   "name": "python",
   "nbconvert_exporter": "python",
   "pygments_lexer": "ipython3",
   "version": "3.7.0"
  }
 },
 "nbformat": 4,
 "nbformat_minor": 2
}
